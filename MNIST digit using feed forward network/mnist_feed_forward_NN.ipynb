{
  "nbformat": 4,
  "nbformat_minor": 0,
  "metadata": {
    "colab": {
      "name": "mnist feed forward NN.ipynb",
      "provenance": [],
      "collapsed_sections": []
    },
    "kernelspec": {
      "name": "python3",
      "display_name": "Python 3"
    }
  },
  "cells": [
    {
      "cell_type": "code",
      "metadata": {
        "id": "i79RgQbtFK5D",
        "colab_type": "code",
        "colab": {
          "base_uri": "https://localhost:8080/",
          "height": 731
        },
        "outputId": "9523e42d-63f2-4b36-d6c1-53d9bedb1c32"
      },
      "source": [
        "!pip install tensorflow numpy mnist\n",
        "import os\n",
        "\n",
        "import numpy as np\n",
        "import mnist\n",
        "from tensorflow import keras\n",
        "\n",
        "from tensorflow.keras.models import Sequential\n",
        "from tensorflow.keras.layers import Dense, Dropout\n",
        "from tensorflow.keras.utils import to_categorical\n",
        "\n",
        "\n",
        "print(\"TensorFlow version: {}\".format(keras.__version__))"
      ],
      "execution_count": null,
      "outputs": [
        {
          "output_type": "stream",
          "text": [
            "Requirement already satisfied: tensorflow in /usr/local/lib/python3.6/dist-packages (2.3.0)\n",
            "Requirement already satisfied: numpy in /usr/local/lib/python3.6/dist-packages (1.18.5)\n",
            "Collecting mnist\n",
            "  Downloading https://files.pythonhosted.org/packages/c6/c4/5db3bfe009f8d71f1d532bbadbd0ec203764bba3a469e4703a889db8e5e0/mnist-0.2.2-py2.py3-none-any.whl\n",
            "Requirement already satisfied: scipy==1.4.1 in /usr/local/lib/python3.6/dist-packages (from tensorflow) (1.4.1)\n",
            "Requirement already satisfied: absl-py>=0.7.0 in /usr/local/lib/python3.6/dist-packages (from tensorflow) (0.10.0)\n",
            "Requirement already satisfied: tensorboard<3,>=2.3.0 in /usr/local/lib/python3.6/dist-packages (from tensorflow) (2.3.0)\n",
            "Requirement already satisfied: google-pasta>=0.1.8 in /usr/local/lib/python3.6/dist-packages (from tensorflow) (0.2.0)\n",
            "Requirement already satisfied: keras-preprocessing<1.2,>=1.1.1 in /usr/local/lib/python3.6/dist-packages (from tensorflow) (1.1.2)\n",
            "Requirement already satisfied: wheel>=0.26 in /usr/local/lib/python3.6/dist-packages (from tensorflow) (0.35.1)\n",
            "Requirement already satisfied: six>=1.12.0 in /usr/local/lib/python3.6/dist-packages (from tensorflow) (1.15.0)\n",
            "Requirement already satisfied: wrapt>=1.11.1 in /usr/local/lib/python3.6/dist-packages (from tensorflow) (1.12.1)\n",
            "Requirement already satisfied: h5py<2.11.0,>=2.10.0 in /usr/local/lib/python3.6/dist-packages (from tensorflow) (2.10.0)\n",
            "Requirement already satisfied: tensorflow-estimator<2.4.0,>=2.3.0 in /usr/local/lib/python3.6/dist-packages (from tensorflow) (2.3.0)\n",
            "Requirement already satisfied: astunparse==1.6.3 in /usr/local/lib/python3.6/dist-packages (from tensorflow) (1.6.3)\n",
            "Requirement already satisfied: opt-einsum>=2.3.2 in /usr/local/lib/python3.6/dist-packages (from tensorflow) (3.3.0)\n",
            "Requirement already satisfied: termcolor>=1.1.0 in /usr/local/lib/python3.6/dist-packages (from tensorflow) (1.1.0)\n",
            "Requirement already satisfied: grpcio>=1.8.6 in /usr/local/lib/python3.6/dist-packages (from tensorflow) (1.32.0)\n",
            "Requirement already satisfied: protobuf>=3.9.2 in /usr/local/lib/python3.6/dist-packages (from tensorflow) (3.12.4)\n",
            "Requirement already satisfied: gast==0.3.3 in /usr/local/lib/python3.6/dist-packages (from tensorflow) (0.3.3)\n",
            "Requirement already satisfied: setuptools>=41.0.0 in /usr/local/lib/python3.6/dist-packages (from tensorboard<3,>=2.3.0->tensorflow) (50.3.0)\n",
            "Requirement already satisfied: markdown>=2.6.8 in /usr/local/lib/python3.6/dist-packages (from tensorboard<3,>=2.3.0->tensorflow) (3.2.2)\n",
            "Requirement already satisfied: tensorboard-plugin-wit>=1.6.0 in /usr/local/lib/python3.6/dist-packages (from tensorboard<3,>=2.3.0->tensorflow) (1.7.0)\n",
            "Requirement already satisfied: requests<3,>=2.21.0 in /usr/local/lib/python3.6/dist-packages (from tensorboard<3,>=2.3.0->tensorflow) (2.23.0)\n",
            "Requirement already satisfied: google-auth-oauthlib<0.5,>=0.4.1 in /usr/local/lib/python3.6/dist-packages (from tensorboard<3,>=2.3.0->tensorflow) (0.4.1)\n",
            "Requirement already satisfied: werkzeug>=0.11.15 in /usr/local/lib/python3.6/dist-packages (from tensorboard<3,>=2.3.0->tensorflow) (1.0.1)\n",
            "Requirement already satisfied: google-auth<2,>=1.6.3 in /usr/local/lib/python3.6/dist-packages (from tensorboard<3,>=2.3.0->tensorflow) (1.17.2)\n",
            "Requirement already satisfied: importlib-metadata; python_version < \"3.8\" in /usr/local/lib/python3.6/dist-packages (from markdown>=2.6.8->tensorboard<3,>=2.3.0->tensorflow) (1.7.0)\n",
            "Requirement already satisfied: certifi>=2017.4.17 in /usr/local/lib/python3.6/dist-packages (from requests<3,>=2.21.0->tensorboard<3,>=2.3.0->tensorflow) (2020.6.20)\n",
            "Requirement already satisfied: urllib3!=1.25.0,!=1.25.1,<1.26,>=1.21.1 in /usr/local/lib/python3.6/dist-packages (from requests<3,>=2.21.0->tensorboard<3,>=2.3.0->tensorflow) (1.24.3)\n",
            "Requirement already satisfied: chardet<4,>=3.0.2 in /usr/local/lib/python3.6/dist-packages (from requests<3,>=2.21.0->tensorboard<3,>=2.3.0->tensorflow) (3.0.4)\n",
            "Requirement already satisfied: idna<3,>=2.5 in /usr/local/lib/python3.6/dist-packages (from requests<3,>=2.21.0->tensorboard<3,>=2.3.0->tensorflow) (2.10)\n",
            "Requirement already satisfied: requests-oauthlib>=0.7.0 in /usr/local/lib/python3.6/dist-packages (from google-auth-oauthlib<0.5,>=0.4.1->tensorboard<3,>=2.3.0->tensorflow) (1.3.0)\n",
            "Requirement already satisfied: rsa<5,>=3.1.4; python_version >= \"3\" in /usr/local/lib/python3.6/dist-packages (from google-auth<2,>=1.6.3->tensorboard<3,>=2.3.0->tensorflow) (4.6)\n",
            "Requirement already satisfied: cachetools<5.0,>=2.0.0 in /usr/local/lib/python3.6/dist-packages (from google-auth<2,>=1.6.3->tensorboard<3,>=2.3.0->tensorflow) (4.1.1)\n",
            "Requirement already satisfied: pyasn1-modules>=0.2.1 in /usr/local/lib/python3.6/dist-packages (from google-auth<2,>=1.6.3->tensorboard<3,>=2.3.0->tensorflow) (0.2.8)\n",
            "Requirement already satisfied: zipp>=0.5 in /usr/local/lib/python3.6/dist-packages (from importlib-metadata; python_version < \"3.8\"->markdown>=2.6.8->tensorboard<3,>=2.3.0->tensorflow) (3.1.0)\n",
            "Requirement already satisfied: oauthlib>=3.0.0 in /usr/local/lib/python3.6/dist-packages (from requests-oauthlib>=0.7.0->google-auth-oauthlib<0.5,>=0.4.1->tensorboard<3,>=2.3.0->tensorflow) (3.1.0)\n",
            "Requirement already satisfied: pyasn1>=0.1.3 in /usr/local/lib/python3.6/dist-packages (from rsa<5,>=3.1.4; python_version >= \"3\"->google-auth<2,>=1.6.3->tensorboard<3,>=2.3.0->tensorflow) (0.4.8)\n",
            "Installing collected packages: mnist\n",
            "Successfully installed mnist-0.2.2\n",
            "TensorFlow version: 2.4.0\n"
          ],
          "name": "stdout"
        }
      ]
    },
    {
      "cell_type": "code",
      "metadata": {
        "id": "79C_uyLEGQFx",
        "colab_type": "code",
        "colab": {
          "base_uri": "https://localhost:8080/",
          "height": 102
        },
        "outputId": "fa033d1d-0e6c-4137-ddf1-17c30fcdb1c5"
      },
      "source": [
        "train_images = mnist.train_images()\n",
        "train_labels = mnist.train_labels()\n",
        "test_images = mnist.test_images()\n",
        "test_labels = mnist.test_labels()\n",
        "\n",
        "print(train_images.shape) # (60000, 28, 28)\n",
        "print(test_images.shape)  # (10000, 28, 28)\n",
        "\n",
        "# Normalize the images.\n",
        "train_images = (train_images / 255) - 0.5\n",
        "test_images = (test_images / 255) - 0.5\n",
        "\n",
        "# Flatten the images.\n",
        "train_images = train_images.reshape((-1, 784))\n",
        "test_images = test_images.reshape((-1, 784))\n",
        "\n",
        "print(train_images.shape) # (60000, 784)\n",
        "print(test_images.shape)  # (10000, 784)\n",
        "\n",
        "print(test_labels.shape)"
      ],
      "execution_count": null,
      "outputs": [
        {
          "output_type": "stream",
          "text": [
            "(60000, 28, 28)\n",
            "(10000, 28, 28)\n",
            "(60000, 784)\n",
            "(10000, 784)\n",
            "(10000,)\n"
          ],
          "name": "stdout"
        }
      ]
    },
    {
      "cell_type": "code",
      "metadata": {
        "id": "x3u7oDnpIn0W",
        "colab_type": "code",
        "colab": {}
      },
      "source": [
        "model = Sequential([\n",
        "  Dense(128, activation='relu', input_shape=(784,)),\n",
        "  Dense(128, activation='relu'),\n",
        "  Dense(10, activation='softmax'),\n",
        "])\n"
      ],
      "execution_count": null,
      "outputs": []
    },
    {
      "cell_type": "code",
      "metadata": {
        "id": "Q8kvvginI7lJ",
        "colab_type": "code",
        "colab": {}
      },
      "source": [
        "\n",
        "model.compile(\n",
        "  optimizer= \"adam\",\n",
        "  loss='categorical_crossentropy',\n",
        "  metrics=['accuracy'],\n",
        ")\n"
      ],
      "execution_count": null,
      "outputs": []
    },
    {
      "cell_type": "code",
      "metadata": {
        "id": "kGybv-q-JADt",
        "colab_type": "code",
        "colab": {
          "base_uri": "https://localhost:8080/",
          "height": 1000
        },
        "outputId": "705a29ae-2d3a-45ed-f4f0-2611f971532e"
      },
      "source": [
        "model.fit(\n",
        "  train_images,\n",
        "  to_categorical(train_labels),\n",
        "  epochs=80,\n",
        "  batch_size=64,\n",
        ")"
      ],
      "execution_count": null,
      "outputs": [
        {
          "output_type": "stream",
          "text": [
            "Epoch 1/80\n",
            "938/938 [==============================] - 3s 4ms/step - loss: 0.0304 - accuracy: 0.9900\n",
            "Epoch 2/80\n",
            "938/938 [==============================] - 3s 3ms/step - loss: 0.0277 - accuracy: 0.9907\n",
            "Epoch 3/80\n",
            "938/938 [==============================] - 3s 3ms/step - loss: 0.0275 - accuracy: 0.9909\n",
            "Epoch 4/80\n",
            "938/938 [==============================] - 3s 3ms/step - loss: 0.0269 - accuracy: 0.9910\n",
            "Epoch 5/80\n",
            "938/938 [==============================] - 3s 3ms/step - loss: 0.0266 - accuracy: 0.9910\n",
            "Epoch 6/80\n",
            "938/938 [==============================] - 3s 3ms/step - loss: 0.0239 - accuracy: 0.9919\n",
            "Epoch 7/80\n",
            "938/938 [==============================] - 3s 3ms/step - loss: 0.0211 - accuracy: 0.9927\n",
            "Epoch 8/80\n",
            "938/938 [==============================] - 3s 3ms/step - loss: 0.0209 - accuracy: 0.9926\n",
            "Epoch 9/80\n",
            "938/938 [==============================] - 3s 3ms/step - loss: 0.0213 - accuracy: 0.9925\n",
            "Epoch 10/80\n",
            "938/938 [==============================] - 3s 3ms/step - loss: 0.0185 - accuracy: 0.9938\n",
            "Epoch 11/80\n",
            "938/938 [==============================] - 3s 3ms/step - loss: 0.0186 - accuracy: 0.9934\n",
            "Epoch 12/80\n",
            "938/938 [==============================] - 3s 3ms/step - loss: 0.0170 - accuracy: 0.9941\n",
            "Epoch 13/80\n",
            "938/938 [==============================] - 3s 3ms/step - loss: 0.0170 - accuracy: 0.9939\n",
            "Epoch 14/80\n",
            "938/938 [==============================] - 3s 3ms/step - loss: 0.0123 - accuracy: 0.9958\n",
            "Epoch 15/80\n",
            "938/938 [==============================] - 3s 3ms/step - loss: 0.0181 - accuracy: 0.9938\n",
            "Epoch 16/80\n",
            "938/938 [==============================] - 3s 3ms/step - loss: 0.0138 - accuracy: 0.9952\n",
            "Epoch 17/80\n",
            "938/938 [==============================] - 3s 3ms/step - loss: 0.0129 - accuracy: 0.9955\n",
            "Epoch 18/80\n",
            "938/938 [==============================] - 3s 3ms/step - loss: 0.0151 - accuracy: 0.9953\n",
            "Epoch 19/80\n",
            "938/938 [==============================] - 3s 3ms/step - loss: 0.0135 - accuracy: 0.9952\n",
            "Epoch 20/80\n",
            "938/938 [==============================] - 3s 3ms/step - loss: 0.0128 - accuracy: 0.9955\n",
            "Epoch 21/80\n",
            "938/938 [==============================] - 3s 3ms/step - loss: 0.0144 - accuracy: 0.9953\n",
            "Epoch 22/80\n",
            "938/938 [==============================] - 3s 3ms/step - loss: 0.0131 - accuracy: 0.9952\n",
            "Epoch 23/80\n",
            "938/938 [==============================] - 3s 3ms/step - loss: 0.0134 - accuracy: 0.9951\n",
            "Epoch 24/80\n",
            "938/938 [==============================] - 3s 3ms/step - loss: 0.0088 - accuracy: 0.9967\n",
            "Epoch 25/80\n",
            "938/938 [==============================] - 3s 3ms/step - loss: 0.0133 - accuracy: 0.9954\n",
            "Epoch 26/80\n",
            "938/938 [==============================] - 3s 3ms/step - loss: 0.0118 - accuracy: 0.9959\n",
            "Epoch 27/80\n",
            "938/938 [==============================] - 3s 3ms/step - loss: 0.0104 - accuracy: 0.9965\n",
            "Epoch 28/80\n",
            "938/938 [==============================] - 3s 3ms/step - loss: 0.0098 - accuracy: 0.9965\n",
            "Epoch 29/80\n",
            "938/938 [==============================] - 3s 3ms/step - loss: 0.0113 - accuracy: 0.9961\n",
            "Epoch 30/80\n",
            "938/938 [==============================] - 3s 3ms/step - loss: 0.0097 - accuracy: 0.9966\n",
            "Epoch 31/80\n",
            "938/938 [==============================] - 3s 3ms/step - loss: 0.0108 - accuracy: 0.9965\n",
            "Epoch 32/80\n",
            "938/938 [==============================] - 3s 3ms/step - loss: 0.0094 - accuracy: 0.9965\n",
            "Epoch 33/80\n",
            "938/938 [==============================] - 3s 3ms/step - loss: 0.0101 - accuracy: 0.9962\n",
            "Epoch 34/80\n",
            "938/938 [==============================] - 3s 3ms/step - loss: 0.0115 - accuracy: 0.9964\n",
            "Epoch 35/80\n",
            "938/938 [==============================] - 3s 3ms/step - loss: 0.0090 - accuracy: 0.9967\n",
            "Epoch 36/80\n",
            "938/938 [==============================] - 3s 3ms/step - loss: 0.0112 - accuracy: 0.9962\n",
            "Epoch 37/80\n",
            "938/938 [==============================] - 3s 3ms/step - loss: 0.0104 - accuracy: 0.9964\n",
            "Epoch 38/80\n",
            "938/938 [==============================] - 3s 3ms/step - loss: 0.0086 - accuracy: 0.9969\n",
            "Epoch 39/80\n",
            "938/938 [==============================] - 3s 3ms/step - loss: 0.0129 - accuracy: 0.9962\n",
            "Epoch 40/80\n",
            "938/938 [==============================] - 3s 3ms/step - loss: 0.0094 - accuracy: 0.9971\n",
            "Epoch 41/80\n",
            "938/938 [==============================] - 3s 3ms/step - loss: 0.0116 - accuracy: 0.9965\n",
            "Epoch 42/80\n",
            "938/938 [==============================] - 3s 3ms/step - loss: 0.0057 - accuracy: 0.9980\n",
            "Epoch 43/80\n",
            "938/938 [==============================] - 3s 3ms/step - loss: 0.0116 - accuracy: 0.9962\n",
            "Epoch 44/80\n",
            "938/938 [==============================] - 3s 3ms/step - loss: 0.0087 - accuracy: 0.9969\n",
            "Epoch 45/80\n",
            "938/938 [==============================] - 3s 3ms/step - loss: 0.0097 - accuracy: 0.9969\n",
            "Epoch 46/80\n",
            "938/938 [==============================] - 3s 3ms/step - loss: 0.0022 - accuracy: 0.9994\n",
            "Epoch 47/80\n",
            "938/938 [==============================] - 3s 3ms/step - loss: 0.0150 - accuracy: 0.9958\n",
            "Epoch 48/80\n",
            "938/938 [==============================] - 3s 3ms/step - loss: 0.0068 - accuracy: 0.9978\n",
            "Epoch 49/80\n",
            "938/938 [==============================] - 3s 3ms/step - loss: 0.0100 - accuracy: 0.9968\n",
            "Epoch 50/80\n",
            "938/938 [==============================] - 3s 3ms/step - loss: 0.0078 - accuracy: 0.9979\n",
            "Epoch 51/80\n",
            "938/938 [==============================] - 3s 3ms/step - loss: 0.0100 - accuracy: 0.9969\n",
            "Epoch 52/80\n",
            "938/938 [==============================] - 3s 3ms/step - loss: 0.0071 - accuracy: 0.9978\n",
            "Epoch 53/80\n",
            "938/938 [==============================] - 3s 3ms/step - loss: 0.0103 - accuracy: 0.9970\n",
            "Epoch 54/80\n",
            "938/938 [==============================] - 3s 3ms/step - loss: 0.0095 - accuracy: 0.9972\n",
            "Epoch 55/80\n",
            "938/938 [==============================] - 3s 3ms/step - loss: 0.0046 - accuracy: 0.9985\n",
            "Epoch 56/80\n",
            "938/938 [==============================] - 3s 3ms/step - loss: 0.0132 - accuracy: 0.9960\n",
            "Epoch 57/80\n",
            "938/938 [==============================] - 3s 3ms/step - loss: 0.0085 - accuracy: 0.9975\n",
            "Epoch 58/80\n",
            "938/938 [==============================] - 3s 3ms/step - loss: 0.0113 - accuracy: 0.9966\n",
            "Epoch 59/80\n",
            "938/938 [==============================] - 3s 3ms/step - loss: 0.0101 - accuracy: 0.9971\n",
            "Epoch 60/80\n",
            "938/938 [==============================] - 3s 3ms/step - loss: 0.0084 - accuracy: 0.9972\n",
            "Epoch 61/80\n",
            "938/938 [==============================] - 3s 3ms/step - loss: 0.0088 - accuracy: 0.9975\n",
            "Epoch 62/80\n",
            "938/938 [==============================] - 3s 3ms/step - loss: 0.0052 - accuracy: 0.9983\n",
            "Epoch 63/80\n",
            "938/938 [==============================] - 3s 3ms/step - loss: 0.0109 - accuracy: 0.9965\n",
            "Epoch 64/80\n",
            "938/938 [==============================] - 3s 3ms/step - loss: 0.0080 - accuracy: 0.9975\n",
            "Epoch 65/80\n",
            "938/938 [==============================] - 3s 3ms/step - loss: 0.0080 - accuracy: 0.9976\n",
            "Epoch 66/80\n",
            "938/938 [==============================] - 3s 3ms/step - loss: 0.0076 - accuracy: 0.9975\n",
            "Epoch 67/80\n",
            "938/938 [==============================] - 3s 3ms/step - loss: 0.0125 - accuracy: 0.9967\n",
            "Epoch 68/80\n",
            "938/938 [==============================] - 3s 3ms/step - loss: 0.0073 - accuracy: 0.9978\n",
            "Epoch 69/80\n",
            "938/938 [==============================] - 3s 3ms/step - loss: 0.0064 - accuracy: 0.9981\n",
            "Epoch 70/80\n",
            "938/938 [==============================] - 3s 3ms/step - loss: 0.0079 - accuracy: 0.9975\n",
            "Epoch 71/80\n",
            "938/938 [==============================] - 3s 3ms/step - loss: 0.0072 - accuracy: 0.9980\n",
            "Epoch 72/80\n",
            "938/938 [==============================] - 3s 3ms/step - loss: 0.0091 - accuracy: 0.9973\n",
            "Epoch 73/80\n",
            "938/938 [==============================] - 3s 3ms/step - loss: 0.0081 - accuracy: 0.9976\n",
            "Epoch 74/80\n",
            "938/938 [==============================] - 3s 3ms/step - loss: 0.0079 - accuracy: 0.9978\n",
            "Epoch 75/80\n",
            "938/938 [==============================] - 3s 3ms/step - loss: 0.0069 - accuracy: 0.9979\n",
            "Epoch 76/80\n",
            "938/938 [==============================] - 3s 3ms/step - loss: 0.0084 - accuracy: 0.9975\n",
            "Epoch 77/80\n",
            "938/938 [==============================] - 3s 3ms/step - loss: 0.0069 - accuracy: 0.9983\n",
            "Epoch 78/80\n",
            "938/938 [==============================] - 3s 3ms/step - loss: 0.0097 - accuracy: 0.9973\n",
            "Epoch 79/80\n",
            "938/938 [==============================] - 3s 3ms/step - loss: 0.0064 - accuracy: 0.9982\n",
            "Epoch 80/80\n",
            "938/938 [==============================] - 3s 3ms/step - loss: 0.0084 - accuracy: 0.9974\n"
          ],
          "name": "stdout"
        },
        {
          "output_type": "execute_result",
          "data": {
            "text/plain": [
              "<tensorflow.python.keras.callbacks.History at 0x7f3c423fbf60>"
            ]
          },
          "metadata": {
            "tags": []
          },
          "execution_count": 19
        }
      ]
    },
    {
      "cell_type": "code",
      "metadata": {
        "id": "lsbPWC02JMCz",
        "colab_type": "code",
        "colab": {
          "base_uri": "https://localhost:8080/",
          "height": 51
        },
        "outputId": "29d881a3-cb5e-41c1-c487-b7e4a16b93ce"
      },
      "source": [
        "model.evaluate(\n",
        "  test_images,\n",
        "  to_categorical(test_labels)\n",
        ")"
      ],
      "execution_count": null,
      "outputs": [
        {
          "output_type": "stream",
          "text": [
            "313/313 [==============================] - 0s 1ms/step - loss: 1.9762 - accuracy: 0.9476\n"
          ],
          "name": "stdout"
        },
        {
          "output_type": "execute_result",
          "data": {
            "text/plain": [
              "[1.976178765296936, 0.9476000070571899]"
            ]
          },
          "metadata": {
            "tags": []
          },
          "execution_count": 14
        }
      ]
    }
  ]
}